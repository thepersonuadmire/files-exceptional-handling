{
  "nbformat": 4,
  "nbformat_minor": 0,
  "metadata": {
    "colab": {
      "provenance": [],
      "toc_visible": true,
      "authorship_tag": "ABX9TyOTpHqa5Vzo1Y3ZFRJ1Pcwu",
      "include_colab_link": true
    },
    "kernelspec": {
      "name": "python3",
      "display_name": "Python 3"
    },
    "language_info": {
      "name": "python"
    }
  },
  "cells": [
    {
      "cell_type": "markdown",
      "metadata": {
        "id": "view-in-github",
        "colab_type": "text"
      },
      "source": [
        "<a href=\"https://colab.research.google.com/github/thepersonuadmire/files-exceptional-handling/blob/main/files_%26_exceptional_handling.ipynb\" target=\"_parent\"><img src=\"https://colab.research.google.com/assets/colab-badge.svg\" alt=\"Open In Colab\"/></a>"
      ]
    },
    {
      "cell_type": "markdown",
      "source": [
        "1. What is the difference between interpreted and compiled languages?"
      ],
      "metadata": {
        "id": "WTJlH5luR5vh"
      }
    },
    {
      "cell_type": "markdown",
      "source": [
        "Interpreted languages execute code line-by-line (e.g., Python), while compiled languages translate the code into machine language first (e.g., C++)."
      ],
      "metadata": {
        "id": "ZDF3HMIhX13F"
      }
    },
    {
      "cell_type": "markdown",
      "source": [
        "2. What is exception handling in Python?"
      ],
      "metadata": {
        "id": "mGPf3SlrSHe7"
      }
    },
    {
      "cell_type": "markdown",
      "source": [
        "It refers to managing errors using try, except, else, and finally blocks to prevent program crashes."
      ],
      "metadata": {
        "id": "W9_RJBFiX38N"
      }
    },
    {
      "cell_type": "markdown",
      "source": [
        "3.  What is the purpose of the finally block in exception handling?"
      ],
      "metadata": {
        "id": "BG5ezYGtSIRf"
      }
    },
    {
      "cell_type": "markdown",
      "source": [
        "It ensures that code runs regardless of whether an exception occurs or not."
      ],
      "metadata": {
        "id": "19st-2HdX8-j"
      }
    },
    {
      "cell_type": "markdown",
      "source": [
        "4. What is logging in Python?"
      ],
      "metadata": {
        "id": "2JGOQ96zSaAX"
      }
    },
    {
      "cell_type": "markdown",
      "source": [
        "A mechanism for tracking events in an application, primarily for debugging and auditing purposes."
      ],
      "metadata": {
        "id": "vYaB5aWLYF7z"
      }
    },
    {
      "cell_type": "markdown",
      "source": [
        "5. What is the significance of the __del__ method in Python?"
      ],
      "metadata": {
        "id": "MDaufX5RSyGg"
      }
    },
    {
      "cell_type": "markdown",
      "source": [
        "It is a destructor method that gets called when an object is deleted or garbage collected."
      ],
      "metadata": {
        "id": "ZTppx_BeYJLh"
      }
    },
    {
      "cell_type": "markdown",
      "source": [
        "6. What is the difference between import and from ... import in Python?"
      ],
      "metadata": {
        "id": "wlxlgyIZS_TW"
      }
    },
    {
      "cell_type": "markdown",
      "source": [
        "\"import\" brings the entire module.\n",
        "\n",
        "\"from ... import\" allows importing specific attributes."
      ],
      "metadata": {
        "id": "mh9JJ6NoYMeH"
      }
    },
    {
      "cell_type": "markdown",
      "source": [
        " 7. How can you handle multiple exceptions in Python?"
      ],
      "metadata": {
        "id": "zayZKfiTTFmd"
      }
    },
    {
      "cell_type": "markdown",
      "source": [
        "Use tuple syntax in except or write multiple except blocks."
      ],
      "metadata": {
        "id": "aI_PCLYSYWv1"
      }
    },
    {
      "cell_type": "markdown",
      "source": [
        "8.  What is the purpose of the with statement when handling files in Python?"
      ],
      "metadata": {
        "id": "HzomyxGrTfPM"
      }
    },
    {
      "cell_type": "markdown",
      "source": [
        "It simplifies file handling by automatically closing files after the block execution."
      ],
      "metadata": {
        "id": "8DLWV6-kYaSK"
      }
    },
    {
      "cell_type": "markdown",
      "source": [
        " 9. What is the difference between multithreading and multiprocessing?"
      ],
      "metadata": {
        "id": "RWrK6fYJTjko"
      }
    },
    {
      "cell_type": "markdown",
      "source": [
        "Multithreading : Shares memory, better for I/O-bound tasks.\n",
        "\n",
        "Multiprocessing : Isolates processes, better for CPU-bound tasks."
      ],
      "metadata": {
        "id": "C4lgkVSNYdWF"
      }
    },
    {
      "cell_type": "markdown",
      "source": [
        " 10. What are the advantages of using logging in a program?"
      ],
      "metadata": {
        "id": "4XNIF2D_TsU6"
      }
    },
    {
      "cell_type": "markdown",
      "source": [
        "Debugging,\n",
        "Performance monitoring,\n",
        "Error detection."
      ],
      "metadata": {
        "id": "OjGXw_SkYkJJ"
      }
    },
    {
      "cell_type": "markdown",
      "source": [
        "11. What is memory management in Python?"
      ],
      "metadata": {
        "id": "jzhk7OJkTxbq"
      }
    },
    {
      "cell_type": "markdown",
      "source": [
        "Python uses reference counting and garbage collection to manage memory dynamically."
      ],
      "metadata": {
        "id": "EA6KXorWYrfD"
      }
    },
    {
      "cell_type": "markdown",
      "source": [
        "12. What are the basic steps involved in exception handling in Python?"
      ],
      "metadata": {
        "id": "SqvDCH2vT2YM"
      }
    },
    {
      "cell_type": "markdown",
      "source": [
        "1.  try to wrap risky code.\n",
        "2.  except to catch exceptions.\n",
        "\n",
        "Or, Use else or finally."
      ],
      "metadata": {
        "id": "tF0geri5Y5Ko"
      }
    },
    {
      "cell_type": "markdown",
      "source": [
        "13. Why is memory management important in Python?"
      ],
      "metadata": {
        "id": "FSgw4Lm4T9A6"
      }
    },
    {
      "cell_type": "markdown",
      "source": [
        "Efficient resource utilization, avoiding memory leaks."
      ],
      "metadata": {
        "id": "8tg_9lmNZVmD"
      }
    },
    {
      "cell_type": "markdown",
      "source": [
        "14. What is the role of try and except in exception handling?"
      ],
      "metadata": {
        "id": "TepGQTxnUA5c"
      }
    },
    {
      "cell_type": "markdown",
      "source": [
        "try encloses code that might fail;\n",
        "\n",
        "except handles specific errors."
      ],
      "metadata": {
        "id": "EuLNseEsZZ6v"
      }
    },
    {
      "cell_type": "markdown",
      "source": [
        "15. How does Python's garbage collection system work?"
      ],
      "metadata": {
        "id": "sQHyJWGpUEj9"
      }
    },
    {
      "cell_type": "markdown",
      "source": [
        "Uses a reference count mechanism and a cyclic garbage collector."
      ],
      "metadata": {
        "id": "7uMzZPcgZo51"
      }
    },
    {
      "cell_type": "markdown",
      "source": [
        " 16. What is the purpose of the else block in exception handling?"
      ],
      "metadata": {
        "id": "Cft4vusNUJUo"
      }
    },
    {
      "cell_type": "markdown",
      "source": [
        "Executes if no exceptions occur in try."
      ],
      "metadata": {
        "id": "zzNvjfuuZtOn"
      }
    },
    {
      "cell_type": "markdown",
      "source": [
        "17. What are the common logging levels in Python?"
      ],
      "metadata": {
        "id": "v_svIN2XUQSE"
      }
    },
    {
      "cell_type": "markdown",
      "source": [
        "DEBUG, INFO, WARNING, ERROR, CRITICAL"
      ],
      "metadata": {
        "id": "5qR7LPBdZyU7"
      }
    },
    {
      "cell_type": "markdown",
      "source": [
        "18. What is the difference between os.fork() and multiprocessing in Python?"
      ],
      "metadata": {
        "id": "CPtNcd5aUVma"
      }
    },
    {
      "cell_type": "markdown",
      "source": [
        "os.fork() creates a child process in Unix systems.\n",
        "\n",
        "Multiprocessing works cross-platform and provides process control."
      ],
      "metadata": {
        "id": "1GaNVqrjZ2pO"
      }
    },
    {
      "cell_type": "markdown",
      "source": [
        "19. What is the importance of closing a file in Python?"
      ],
      "metadata": {
        "id": "JkjfNQzAUas0"
      }
    },
    {
      "cell_type": "markdown",
      "source": [
        "Ensures resources are freed and changes are saved."
      ],
      "metadata": {
        "id": "IGnbCacJZ-X1"
      }
    },
    {
      "cell_type": "markdown",
      "source": [
        "20. What is the difference between file.read() and file.readline() in Python?"
      ],
      "metadata": {
        "id": "DOFqVNerUjVf"
      }
    },
    {
      "cell_type": "markdown",
      "source": [
        "read(): Reads the entire file.\n",
        "\n",
        "readline(): Reads a single line."
      ],
      "metadata": {
        "id": "ivPtvMn9aBzo"
      }
    },
    {
      "cell_type": "markdown",
      "source": [
        "21. What is the logging module in Python used for?"
      ],
      "metadata": {
        "id": "i6GTQZ1BUnk-"
      }
    },
    {
      "cell_type": "markdown",
      "source": [
        "Logs messages for debugging or tracking program flow."
      ],
      "metadata": {
        "id": "Dgb3G6o_aHP1"
      }
    },
    {
      "cell_type": "markdown",
      "source": [
        "22. What is the os module in Python used for in file handling?"
      ],
      "metadata": {
        "id": "6D5EG-hHUrXK"
      }
    },
    {
      "cell_type": "markdown",
      "source": [
        "Performs OS-level file handling operations like renaming or deleting files."
      ],
      "metadata": {
        "id": "GU9GlfOiaMrz"
      }
    },
    {
      "cell_type": "markdown",
      "source": [
        "23.  What are the challenges associated with memory management in Python?"
      ],
      "metadata": {
        "id": "vyL9Bq6KUvkA"
      }
    },
    {
      "cell_type": "markdown",
      "source": [
        "Managing large datasets and avoiding memory leaks."
      ],
      "metadata": {
        "id": "7_DjneKWaQ73"
      }
    },
    {
      "cell_type": "markdown",
      "source": [
        "24. How do you raise an exception manually in Python?"
      ],
      "metadata": {
        "id": "GJzImeAqUzJW"
      }
    },
    {
      "cell_type": "markdown",
      "source": [
        "Use the raise keyword."
      ],
      "metadata": {
        "id": "EqF2pFtkaXs-"
      }
    },
    {
      "cell_type": "markdown",
      "source": [
        "25. Why is it important to use multithreading in certain applications?"
      ],
      "metadata": {
        "id": "2jDZFfjCU3Ws"
      }
    },
    {
      "cell_type": "markdown",
      "source": [
        "Improves performance for I/O-bound tasks."
      ],
      "metadata": {
        "id": "ikco0gPFacUz"
      }
    },
    {
      "cell_type": "markdown",
      "source": [
        "# **Practical** **Questions**"
      ],
      "metadata": {
        "id": "aeTi8ftGVQdG"
      }
    },
    {
      "cell_type": "markdown",
      "source": [
        "1. How can you open a file for writing in Python and write a string to it?"
      ],
      "metadata": {
        "id": "RRcoywB7VaL9"
      }
    },
    {
      "cell_type": "code",
      "source": [
        "with open('file.txt', 'w') as f:\n",
        "    f.write('Hello, World!')\n"
      ],
      "metadata": {
        "id": "MQ24wU_ba0mm"
      },
      "execution_count": null,
      "outputs": []
    },
    {
      "cell_type": "markdown",
      "source": [
        "2. Write a Python program to read the contents of a file and print each line."
      ],
      "metadata": {
        "id": "MoOdC_fpVt3K"
      }
    },
    {
      "cell_type": "code",
      "source": [
        "with open('file.txt', 'r') as f:\n",
        "    for line in f:\n",
        "        print(line.strip())\n"
      ],
      "metadata": {
        "id": "utbcz3JebA7T"
      },
      "execution_count": null,
      "outputs": []
    },
    {
      "cell_type": "markdown",
      "source": [
        "3. How would you handle a case where the file doesn't exist while trying to open it for reading?"
      ],
      "metadata": {
        "id": "knSjus7cV5nZ"
      }
    },
    {
      "cell_type": "code",
      "source": [
        "try:\n",
        "    with open('nonexistent.txt', 'r') as f:\n",
        "        print(f.read())\n",
        "except FileNotFoundError:\n",
        "    print(\"File does not exist.\")\n"
      ],
      "metadata": {
        "id": "yJK_c6TNbEKT"
      },
      "execution_count": null,
      "outputs": []
    },
    {
      "cell_type": "markdown",
      "source": [
        "4. Write a Python script that reads from one file and writes its content to another file."
      ],
      "metadata": {
        "id": "znmEwlQbV-M0"
      }
    },
    {
      "cell_type": "code",
      "source": [
        "with open('source.txt', 'r') as src, open('dest.txt', 'w') as dest:\n",
        "    dest.write(src.read())\n"
      ],
      "metadata": {
        "id": "I-IghKzzbO-j"
      },
      "execution_count": null,
      "outputs": []
    },
    {
      "cell_type": "markdown",
      "source": [
        "5. How would you catch and handle division by zero error in Python?"
      ],
      "metadata": {
        "id": "9QsaqhrwWCdZ"
      }
    },
    {
      "cell_type": "code",
      "source": [
        "try:\n",
        "    result = 10 / 0\n",
        "except ZeroDivisionError:\n",
        "    print(\"Cannot divide by zero!\")\n"
      ],
      "metadata": {
        "id": "HkoYUOqWbbBR"
      },
      "execution_count": null,
      "outputs": []
    },
    {
      "cell_type": "markdown",
      "source": [
        "6. Write a Python program that logs an error message to a log file when a division by zero exception occurs."
      ],
      "metadata": {
        "id": "Yq0waCKHWF-o"
      }
    },
    {
      "cell_type": "code",
      "source": [
        "import logging\n",
        "logging.basicConfig(filename='errors.log', level=logging.ERROR)\n",
        "try:\n",
        "    result = 10 / 0\n",
        "except ZeroDivisionError as e:\n",
        "    logging.error(\"Division by zero occurred: %s\", e)\n"
      ],
      "metadata": {
        "id": "HuTzZU4hbdgT"
      },
      "execution_count": null,
      "outputs": []
    },
    {
      "cell_type": "markdown",
      "source": [
        "7. How do you log information at different levels (INFO, ERROR, WARNING) in Python using the logging module?"
      ],
      "metadata": {
        "id": "nrTSTlsgWQq1"
      }
    },
    {
      "cell_type": "code",
      "source": [
        "import logging\n",
        "logging.basicConfig(level=logging.DEBUG)\n",
        "logging.info(\"Info message\")\n",
        "logging.warning(\"Warning message\")\n",
        "logging.error(\"Error message\")\n"
      ],
      "metadata": {
        "id": "3NjESNttbgVZ"
      },
      "execution_count": null,
      "outputs": []
    },
    {
      "cell_type": "markdown",
      "source": [
        "8.  Write a program to handle a file opening error using exception handling."
      ],
      "metadata": {
        "id": "tK4yNqG5WbCT"
      }
    },
    {
      "cell_type": "code",
      "source": [
        "try:\n",
        "    with open('file.txt', 'r') as f:\n",
        "        print(f.read())\n",
        "except Exception as e:\n",
        "    print(\"Error opening file:\", e)\n"
      ],
      "metadata": {
        "id": "VE8VCWpxbxxY"
      },
      "execution_count": null,
      "outputs": []
    },
    {
      "cell_type": "markdown",
      "source": [
        "9.  How can you read a file line by line and store its content in a list in Python?"
      ],
      "metadata": {
        "id": "HneZGyXPWe-R"
      }
    },
    {
      "cell_type": "code",
      "source": [
        "with open('file.txt', 'r') as f:\n",
        "    lines = [line.strip() for line in f]\n"
      ],
      "metadata": {
        "id": "j8Sv508Zb0Nx"
      },
      "execution_count": null,
      "outputs": []
    },
    {
      "cell_type": "markdown",
      "source": [
        "10. How can you append data to an existing file in Python?"
      ],
      "metadata": {
        "id": "YyVv-X8bWjLE"
      }
    },
    {
      "cell_type": "code",
      "source": [
        "with open('file.txt', 'a') as f:\n",
        "    f.write('New line\\n')\n"
      ],
      "metadata": {
        "id": "dFYSBIblchK_"
      },
      "execution_count": null,
      "outputs": []
    },
    {
      "cell_type": "markdown",
      "source": [
        "11. Write a Python program that uses a try-except block to handle an error when attempting to access a\n",
        "dictionary key that doesn't exist."
      ],
      "metadata": {
        "id": "wZGM5m0FWnaM"
      }
    },
    {
      "cell_type": "code",
      "source": [
        "try:\n",
        "    my_dict = {'key': 'value'}\n",
        "    print(my_dict['nonexistent_key'])\n",
        "except KeyError:\n",
        "    print(\"Key does not exist in the dictionary.\")\n"
      ],
      "metadata": {
        "id": "toJPzRNIcj2N"
      },
      "execution_count": null,
      "outputs": []
    },
    {
      "cell_type": "markdown",
      "source": [
        "12. Write a program that demonstrates using multiple except blocks to handle different types of exceptions."
      ],
      "metadata": {
        "id": "pRAL89xhWr5_"
      }
    },
    {
      "cell_type": "code",
      "source": [
        "try:\n",
        "    lst = [1, 2, 3]\n",
        "    print(lst[5])  # IndexError\n",
        "    result = 10 / 0  # ZeroDivisionError\n",
        "except IndexError:\n",
        "    print(\"Index out of range.\")\n",
        "except ZeroDivisionError:\n",
        "    print(\"Division by zero error.\")\n"
      ],
      "metadata": {
        "id": "ThduBTNEcm5b"
      },
      "execution_count": null,
      "outputs": []
    },
    {
      "cell_type": "markdown",
      "source": [
        "13. How would you check if a file exists before attempting to read it in Python?"
      ],
      "metadata": {
        "id": "_NLhTAadWv50"
      }
    },
    {
      "cell_type": "code",
      "source": [
        "import os\n",
        "if os.path.exists('file.txt'):\n",
        "    with open('file.txt', 'r') as f:\n",
        "        print(f.read())\n",
        "else:\n",
        "    print(\"File does not exist.\")\n"
      ],
      "metadata": {
        "id": "qc27mkhJcx7_"
      },
      "execution_count": null,
      "outputs": []
    },
    {
      "cell_type": "markdown",
      "source": [
        "14. Write a program that uses the logging module to log both informational and error messages."
      ],
      "metadata": {
        "id": "E6KWEuYYWzyt"
      }
    },
    {
      "cell_type": "code",
      "source": [
        "import logging\n",
        "logging.basicConfig(filename='app.log', level=logging.INFO)\n",
        "try:\n",
        "    result = 10 / 0\n",
        "except ZeroDivisionError as e:\n",
        "    logging.error(\"Error occurred: %s\", e)\n",
        "logging.info(\"Program completed.\")\n"
      ],
      "metadata": {
        "id": "w__xOPIGczbB"
      },
      "execution_count": null,
      "outputs": []
    },
    {
      "cell_type": "markdown",
      "source": [
        "15. Write a Python program that prints the content of a file and handles the case when the file is empty."
      ],
      "metadata": {
        "id": "dWKcx4bIW3k8"
      }
    },
    {
      "cell_type": "code",
      "source": [
        "import os\n",
        "if os.stat('file.txt').st_size == 0:\n",
        "    print(\"File is empty.\")\n",
        "else:\n",
        "    with open('file.txt', 'r') as f:\n",
        "        print(f.read())\n"
      ],
      "metadata": {
        "id": "B2VfoITcc3ni"
      },
      "execution_count": null,
      "outputs": []
    },
    {
      "cell_type": "markdown",
      "source": [
        "16. Demonstrate how to use memory profiling to check the memory usage of a small program.\n"
      ],
      "metadata": {
        "id": "Mp0DQsgeW8be"
      }
    },
    {
      "cell_type": "code",
      "source": [
        "from memory_profiler import profile\n",
        "\n",
        "@profile\n",
        "def test_memory():\n",
        "    data = [i for i in range(10000)]\n",
        "    return data\n",
        "\n",
        "if __name__ == \"__main__\":\n",
        "    test_memory()\n"
      ],
      "metadata": {
        "id": "VllLwugRc6VZ"
      },
      "execution_count": null,
      "outputs": []
    },
    {
      "cell_type": "markdown",
      "source": [
        "17.  Write a Python program to create and write a list of numbers to a file, one number per line."
      ],
      "metadata": {
        "id": "RVcosuFiXIFq"
      }
    },
    {
      "cell_type": "code",
      "source": [
        "with open('numbers.txt', 'w') as f:\n",
        "    for number in range(1, 11):\n",
        "        f.write(f\"{number}\\n\")\n"
      ],
      "metadata": {
        "id": "Knmd-DRgc_eV"
      },
      "execution_count": null,
      "outputs": []
    },
    {
      "cell_type": "markdown",
      "source": [
        "18. How would you implement a basic logging setup that logs to a file with rotation after 1MB?"
      ],
      "metadata": {
        "id": "yBwukicxXMGa"
      }
    },
    {
      "cell_type": "code",
      "source": [
        "import logging\n",
        "from logging.handlers import RotatingFileHandler\n",
        "\n",
        "# Configure the logger\n",
        "logger = logging.getLogger(\"MyLogger\")\n",
        "logger.setLevel(logging.INFO)\n",
        "\n",
        "# Create a rotating file handler\n",
        "handler = RotatingFileHandler(\n",
        "    \"rotating_log.log\", maxBytes=1024 * 1024, backupCount=3\n",
        ")  # Rotate log file after it reaches 1 MB, keep 3 backups\n",
        "\n",
        "# Format for log messages\n",
        "formatter = logging.Formatter('%(asctime)s - %(levelname)s - %(message)s')\n",
        "handler.setFormatter(formatter)\n",
        "\n",
        "# Add the handler to the logger\n",
        "logger.addHandler(handler)\n",
        "\n",
        "# Generate some log messages to test rotation\n",
        "for i in range(10000):\n",
        "    logger.info(f\"Log message number {i + 1}\")\n"
      ],
      "metadata": {
        "id": "F1ki8P93dtcu"
      },
      "execution_count": null,
      "outputs": []
    },
    {
      "cell_type": "markdown",
      "source": [
        "19. F Write a program that handles both IndexError and KeyError using a try-except block."
      ],
      "metadata": {
        "id": "rbD4iP-sXQW0"
      }
    },
    {
      "cell_type": "code",
      "source": [
        "try:\n",
        "    lst = [1, 2, 3]\n",
        "    print(lst[5])  # IndexError\n",
        "    my_dict = {'key': 'value'}\n",
        "    print(my_dict['nonexistent_key'])  # KeyError\n",
        "except IndexError:\n",
        "    print(\"Index out of range.\")\n",
        "except KeyError:\n",
        "    print(\"Key does not exist in the dictionary.\")\n"
      ],
      "metadata": {
        "id": "m1h6c88ZdJKJ"
      },
      "execution_count": null,
      "outputs": []
    },
    {
      "cell_type": "markdown",
      "source": [
        "20. How would you open a file and read its contents using a context manager in Python?"
      ],
      "metadata": {
        "id": "eWH7qjZLXUku"
      }
    },
    {
      "cell_type": "code",
      "source": [
        "with open('file.txt', 'r') as f:\n",
        "    content = f.read()\n",
        "    print(content)\n"
      ],
      "metadata": {
        "id": "UPx57J6LdMqX"
      },
      "execution_count": null,
      "outputs": []
    },
    {
      "cell_type": "markdown",
      "source": [
        "21. Write a Python program that reads a file and prints the number of occurrences of a specific word."
      ],
      "metadata": {
        "id": "bktmO2qtXYd9"
      }
    },
    {
      "cell_type": "code",
      "source": [
        "word_to_count = 'Python'\n",
        "with open('file.txt', 'r') as f:\n",
        "    content = f.read()\n",
        "    count = content.split().count(word_to_count)\n",
        "    print(f\"The word '{word_to_count}' appears {count} times.\")\n"
      ],
      "metadata": {
        "id": "AWr-lzk_dQr3"
      },
      "execution_count": null,
      "outputs": []
    },
    {
      "cell_type": "markdown",
      "source": [
        "22. How can you check if a file is empty before attempting to read its contents?"
      ],
      "metadata": {
        "id": "E7EXY1tnXb3u"
      }
    },
    {
      "cell_type": "code",
      "source": [
        "import os\n",
        "if os.path.exists('file.txt') and os.stat('file.txt').st_size == 0:\n",
        "    print(\"The file is empty.\")\n",
        "else:\n",
        "    with open('file.txt', 'r') as f:\n",
        "        print(f.read())\n"
      ],
      "metadata": {
        "id": "ESumP_KTdUaF"
      },
      "execution_count": null,
      "outputs": []
    },
    {
      "cell_type": "markdown",
      "source": [
        "23. Write a Python program that writes to a log file when an error occurs during file handling."
      ],
      "metadata": {
        "id": "5O4F_L5OXkF-"
      }
    },
    {
      "cell_type": "code",
      "source": [
        "import logging\n",
        "\n",
        "logging.basicConfig(filename='file_errors.log', level=logging.ERROR)\n",
        "\n",
        "try:\n",
        "    with open('nonexistent_file.txt', 'r') as f:\n",
        "        print(f.read())\n",
        "except FileNotFoundError as e:\n",
        "    logging.error(\"Error occurred while handling the file: %s\", e)\n"
      ],
      "metadata": {
        "id": "9BAdw8n7dYLt"
      },
      "execution_count": null,
      "outputs": []
    }
  ]
}